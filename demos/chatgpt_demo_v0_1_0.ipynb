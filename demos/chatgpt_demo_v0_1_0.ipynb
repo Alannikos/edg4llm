{
 "cells": [
  {
   "cell_type": "code",
   "execution_count": 4,
   "metadata": {},
   "outputs": [],
   "source": [
    "import sys\n",
    "sys.path.append(\"/home/alannikos/Project_Repository/edg4llm_workplace/edg4llm_local\")\n",
    "\n",
    "import edg4llm"
   ]
  },
  {
   "cell_type": "code",
   "execution_count": null,
   "metadata": {},
   "outputs": [],
   "source": [
    "print(edg4llm.__version__)"
   ]
  },
  {
   "cell_type": "code",
   "execution_count": null,
   "metadata": {},
   "outputs": [],
   "source": [
    "from edg4llm.core.interface import EDG4LLM\n",
    "\n",
    "api_key = \"xxx\"\n",
    "base_url = \"https://api.openai.com/v1/chat/completions\"\n",
    "\n",
    "edg = EDG4LLM(model_provider='chatgpt', model_name=\"gpt-3.5-turbo\", base_url=base_url, api_key=api_key)\n",
    "# 设置测试数据\n",
    "system_prompt = \"\"\"你是一个精通中国古代诗词的古文学大师\"\"\"\n",
    "\n",
    "user_prompt = '''\n",
    "    目标: 1. 请生成过年为场景的连续多轮对话记录\n",
    "            2. 提出的问题要多样化。\n",
    "            3. 要符合人类的说话习惯。\n",
    "            4. 严格遵循规则: 请以如下格式返回生成的数据, 只返回JSON格式，json模板:  \n",
    "                [\n",
    "                    {{\n",
    "                        \"input\":\"AAA\",\"output\":\"BBB\" \n",
    "                    }}\n",
    "                ]\n",
    "                其中input字段表示一个人的话语, output字段表示专家的话语\n",
    "'''\n",
    "num_samples = 1  # 只生成一个对话样本\n",
    "\n",
    "# 调用 generate 方法生成对话\n",
    "data = edg.generate(\n",
    "    task_type=\"dialogue\",\n",
    "    system_prompt=system_prompt,\n",
    "    user_prompt=user_prompt,\n",
    "    num_samples=num_samples\n",
    ")"
   ]
  },
  {
   "cell_type": "code",
   "execution_count": null,
   "metadata": {},
   "outputs": [],
   "source": [
    "print(data)"
   ]
  }
 ],
 "metadata": {
  "kernelspec": {
   "display_name": "edg4llm",
   "language": "python",
   "name": "python3"
  },
  "language_info": {
   "codemirror_mode": {
    "name": "ipython",
    "version": 3
   },
   "file_extension": ".py",
   "mimetype": "text/x-python",
   "name": "python",
   "nbconvert_exporter": "python",
   "pygments_lexer": "ipython3",
   "version": "3.10.0"
  }
 },
 "nbformat": 4,
 "nbformat_minor": 2
}
