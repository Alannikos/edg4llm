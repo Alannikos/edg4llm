{
 "cells": [
  {
   "cell_type": "code",
   "execution_count": 4,
   "metadata": {},
   "outputs": [
    {
     "name": "stdout",
     "output_type": "stream",
     "text": [
      "True\n"
     ]
    }
   ],
   "source": [
    "import json\n",
    "import re\n",
    "\n",
    "def is_json_template_consistent(user_prompt):\n",
    "    # 定义目标模板\n",
    "    target_template = [\n",
    "        {\n",
    "            \"question\": \"AAA\"\n",
    "        }\n",
    "    ]\n",
    "    \n",
    "    # 使用正则提取JSON模板部分\n",
    "    pattern = r\"\\[\\s*{\\s*\\\"question\\\"\\s*:\\s*\\\"AAA\\\"\\s*}\\s*\\]\"\n",
    "    match = re.search(pattern, user_prompt)\n",
    "    \n",
    "    if match:\n",
    "        # 解析提取的模板为 JSON 对象\n",
    "        try:\n",
    "            extracted_template = json.loads(match.group(0))\n",
    "        except json.JSONDecodeError:\n",
    "            return False\n",
    "        \n",
    "        # 比较提取的模板和目标模板是否一致\n",
    "        return extracted_template == target_template\n",
    "    else:\n",
    "        # 没有找到 JSON 模板\n",
    "        return False\n",
    "\n",
    "# 示例输入\n",
    "user_prompt = '''\n",
    "    目标: 1. 请生成过年为场景的单个问题数据\n",
    "            2. 提出的问题要多样化。\n",
    "            3. 要符合人类的说话习惯。\n",
    "            4. 严格遵循规则: 请以如下格式返回生成的数据, 只返回JSON格式，json模板:  \n",
    "                [\n",
    "                    {\n",
    "                        \"question\":\"AAA\"\n",
    "                    }\n",
    "                ]\n",
    "                其中question字段表示生成的问题\n",
    "'''\n",
    "\n",
    "print(is_json_template_consistent(user_prompt))  # 输出: True\n"
   ]
  }
 ],
 "metadata": {
  "kernelspec": {
   "display_name": "edg4llm",
   "language": "python",
   "name": "python3"
  },
  "language_info": {
   "codemirror_mode": {
    "name": "ipython",
    "version": 3
   },
   "file_extension": ".py",
   "mimetype": "text/x-python",
   "name": "python",
   "nbconvert_exporter": "python",
   "pygments_lexer": "ipython3",
   "version": "3.10.0"
  }
 },
 "nbformat": 4,
 "nbformat_minor": 2
}
