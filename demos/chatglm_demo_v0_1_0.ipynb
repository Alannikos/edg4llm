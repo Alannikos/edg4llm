{
 "cells": [
  {
   "cell_type": "code",
   "execution_count": 1,
   "metadata": {},
   "outputs": [],
   "source": [
    "import edg4llm"
   ]
  },
  {
   "cell_type": "code",
   "execution_count": null,
   "metadata": {},
   "outputs": [],
   "source": [
    "print(edg4llm.__version__)"
   ]
  },
  {
   "cell_type": "code",
   "execution_count": null,
   "metadata": {},
   "outputs": [],
   "source": [
    "from edg4llm.core.interface import EDG4LLM\n",
    "\n",
    "api_key = \"xxx\"\n",
    "base_url = \"https://open.bigmodel.cn/api/paas/v4/chat/completions\"\n",
    "\n",
    "edg = EDG4LLM(model_provider='chatglm', model_name=\"glm-4-flash\", base_url=base_url, api_key=api_key)\n",
    "# 设置测试数据\n",
    "system_prompt = \"\"\"你是一个精通中国古代诗词的古文学大师\"\"\"\n",
    "\n",
    "user_prompt = '''\n",
    "    目标: 1. 请生成过年为场景的连续多轮对话记录\n",
    "            2. 提出的问题要多样化。\n",
    "            3. 要符合人类的说话习惯。\n",
    "            4. 严格遵循规则: 请以如下格式返回生成的数据, 只返回JSON格式，json模板:  \n",
    "                [\n",
    "                    {{\n",
    "                        \"input\":\"AAA\",\"output\":\"BBB\" \n",
    "                    }}\n",
    "                ]\n",
    "                其中input字段表示一个人的话语, output字段表示专家的话语\n",
    "'''\n",
    "num_samples = 1  # 只生成一个对话样本\n",
    "\n",
    "# 调用 generate 方法生成对话\n",
    "data_dialogue = edg.generate(\n",
    "    task_type=\"dialogue\",\n",
    "    system_prompt=system_prompt,\n",
    "    user_prompt=user_prompt,\n",
    "    num_samples=num_samples\n",
    ")"
   ]
  },
  {
   "cell_type": "code",
   "execution_count": null,
   "metadata": {},
   "outputs": [],
   "source": [
    "print(data_dialogue)"
   ]
  },
  {
   "cell_type": "code",
   "execution_count": null,
   "metadata": {},
   "outputs": [],
   "source": [
    "from edg4llm.core.interface import EDG4LLM\n",
    "\n",
    "api_key = \"479dc4c9611acd56f0b7981f126a3411.tNS782K8hcuk1UeO\"\n",
    "base_url = \"https://open.bigmodel.cn/api/paas/v4/chat/completions\"\n",
    "\n",
    "edg = EDG4LLM(model_provider='chatglm', model_name=\"glm-4-flash\", base_url=base_url, api_key=api_key)\n",
    "# 设置测试数据\n",
    "system_prompt = \"\"\"你是一个精通中国古代诗词的古文学大师\"\"\"\n",
    "\n",
    "user_prompt = '''\n",
    "    目标: 1. 请生成过年为场景的问题\n",
    "            2. 提出的问题要多样化。\n",
    "            3. 要符合人类的说话习惯。\n",
    "            4. 严格遵循规则: 请以如下格式返回生成的数据, 只返回JSON格式，json模板:  \n",
    "                [\n",
    "                    {\n",
    "                        \"question\": \"AAA\"\n",
    "                    }\n",
    "                ]\n",
    "                其中question表示你生成的问题\n",
    "'''\n",
    "num_samples = 1  # 只生成一个对话样本\n",
    "\n",
    "# 调用 generate 方法生成对话\n",
    "data_question = edg.generate(\n",
    "    task_type=\"question\",\n",
    "    system_prompt=system_prompt,\n",
    "    user_prompt=user_prompt,\n",
    "    num_samples=num_samples\n",
    ")"
   ]
  },
  {
   "cell_type": "code",
   "execution_count": null,
   "metadata": {},
   "outputs": [],
   "source": [
    "print(data_question)"
   ]
  },
  {
   "cell_type": "code",
   "execution_count": null,
   "metadata": {},
   "outputs": [],
   "source": [
    "from edg4llm.core.interface import EDG4LLM\n",
    "\n",
    "api_key = \"479dc4c9611acd56f0b7981f126a3411.tNS782K8hcuk1UeO\"\n",
    "base_url = \"https://open.bigmodel.cn/api/paas/v4/chat/completions\"\n",
    "\n",
    "edg = EDG4LLM(model_provider='chatglm', model_name=\"glm-4-flash\", base_url=base_url, api_key=api_key)\n",
    "# 设置测试数据\n",
    "system_prompt = \"\"\"你是一个精通中国古代诗词的古文学大师\"\"\"\n",
    "\n",
    "user_prompt = '''\n",
    "    目标: 1. 请生成EDG4LLM为问题的回答\n",
    "            2. 要符合人类的说话习惯。\n",
    "            3. 严格遵循规则: 请以如下格式返回生成的数据, 只返回JSON格式，json模板:  \n",
    "                [\n",
    "                    {\n",
    "                        \"answer\": \"AAA\"\n",
    "                    }\n",
    "                ]\n",
    "                其中answer表示你的回答\n",
    "'''\n",
    "num_samples = 1  # 存在29个问题\n",
    "\n",
    "# 调用 generate 方法生成对话\n",
    "data_answer = edg.generate(\n",
    "    task_type=\"answer\",\n",
    "    system_prompt=system_prompt,\n",
    "    user_prompt=user_prompt,\n",
    "    num_samples=num_samples,\n",
    "    question_path=\"/home/alannikos/Project_Repository/edg4llm_workplace/edg4llm_local/demos/question.json\"\n",
    ")"
   ]
  },
  {
   "cell_type": "code",
   "execution_count": null,
   "metadata": {},
   "outputs": [],
   "source": [
    "print(data_answer)"
   ]
  }
 ],
 "metadata": {
  "kernelspec": {
   "display_name": "edg4llm",
   "language": "python",
   "name": "python3"
  },
  "language_info": {
   "codemirror_mode": {
    "name": "ipython",
    "version": 3
   },
   "file_extension": ".py",
   "mimetype": "text/x-python",
   "name": "python",
   "nbconvert_exporter": "python",
   "pygments_lexer": "ipython3",
   "version": "3.10.0"
  }
 },
 "nbformat": 4,
 "nbformat_minor": 2
}
