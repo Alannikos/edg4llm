{
 "cells": [
  {
   "cell_type": "code",
   "execution_count": 1,
   "metadata": {},
   "outputs": [],
   "source": [
    "import sys\n",
    "sys.path.append(\"/home/alannikos/Project_Repository/edg4llm_workplace/edg4llm_local\")\n",
    "\n",
    "import edg4llm"
   ]
  },
  {
   "cell_type": "code",
   "execution_count": 2,
   "metadata": {},
   "outputs": [
    {
     "name": "stdout",
     "output_type": "stream",
     "text": [
      "0.1.0\n"
     ]
    }
   ],
   "source": [
    "print(edg4llm.__version__)"
   ]
  },
  {
   "cell_type": "code",
   "execution_count": 3,
   "metadata": {},
   "outputs": [
    {
     "name": "stderr",
     "output_type": "stream",
     "text": [
      "\u001b[92m[2025-01-10 10:53:15,645]-[interface:INFO]:DataPipeline initialized successfully with the provided configuration.\u001b[0m\n",
      "\u001b[92m[2025-01-10 10:53:15,647]-[DataPipeline:INFO]:Generated data for task_type: 'dialogue'\u001b[0m\n",
      "\u001b[92m[2025-01-10 10:53:32,987]-[DialogueGenerator:INFO]:Data generation progress: 33.33% (1/3 samples completed)\u001b[0m\n",
      "\u001b[92m[2025-01-10 10:53:44,683]-[DialogueGenerator:INFO]:Data generation progress: 66.67% (2/3 samples completed)\u001b[0m\n",
      "\u001b[92m[2025-01-10 10:54:03,844]-[DialogueGenerator:INFO]:Data generation progress: 100.00% (3/3 samples completed)\u001b[0m\n",
      "\u001b[92m[2025-01-10 10:54:03,846]-[interface:INFO]:Data generation completed successfully for task_type: dialogue\u001b[0m\n"
     ]
    }
   ],
   "source": [
    "from edg4llm.core.interface import EDG4LLM\n",
    "\n",
    "api_key = \"xxx\"\n",
    "base_url = \"https://api.deepseek.com/chat/completions\"\n",
    "\n",
    "edg = EDG4LLM(model_provider='deepseek', model_name=\"deepseek-chat\", base_url=base_url, api_key=api_key)\n",
    "# 设置测试数据\n",
    "system_prompt = \"\"\"你是一个精通中国古代诗词的古文学大师\"\"\"\n",
    "\n",
    "user_prompt = '''\n",
    "    目标: 1. 请生成过年为场景的连续多轮对话记录\n",
    "            2. 提出的问题要多样化。\n",
    "            3. 要符合人类的说话习惯。\n",
    "            4. 严格遵循规则: 请以如下格式返回生成的数据, 只返回JSON格式，json模板:  \n",
    "                [\n",
    "                    {{\n",
    "                        \"input\":\"AAA\",\"output\":\"BBBB\" \n",
    "                    }}\n",
    "                ]\n",
    "                其中input字段表示一个人的话语, output字段表示专家的话语'''\n",
    "num_samples = 3  # 只生成一个对话样本\n",
    "\n",
    "# 调用 generate 方法生成对话\n",
    "data = edg.generate(\n",
    "    task_type=\"dialogue\",\n",
    "    system_prompt=system_prompt,\n",
    "    user_prompt=user_prompt,\n",
    "    num_samples=num_samples\n",
    ")"
   ]
  },
  {
   "cell_type": "code",
   "execution_count": 4,
   "metadata": {},
   "outputs": [
    {
     "name": "stdout",
     "output_type": "stream",
     "text": [
      "[{'conversation': [{'input': '过年了，家里准备了很多年货，你有什么推荐的诗词来增添节日气氛吗？', 'output': '《元日》王安石的诗句‘爆竹声中一岁除，春风送暖入屠苏’非常适合过年时吟诵，寓意着辞旧迎新，春风送暖。', 'instruction': '你是一个精通中国古代诗词的古文学大师'}, {'input': '除了《元日》，还有哪些诗词适合在春节期间朗诵？', 'output': '《除夜》文天祥的‘乾坤空落落，岁月去堂堂’表达了岁月匆匆的感慨，而《除夜作》高适的‘旅馆寒灯独不眠，客心何事转凄然’则描绘了旅人在异乡过年的孤独感。'}, {'input': '春节期间，家人团聚，有没有描写家庭和睦的诗词？', 'output': '《家》杜甫的‘家书抵万金’表达了家人之间的深厚情感，而《春望》中的‘国破山河在，城春草木深’则反映了战乱时期对家的深切思念。'}, {'input': '春节也是赏花的好时节，有哪些描写春节花卉的诗词？', 'output': '《梅花》王安石的‘墙角数枝梅，凌寒独自开’描绘了梅花在寒冬中独自绽放的坚韧，而《早春呈水部张十八员外》韩愈的‘天街小雨润如酥，草色遥看近却无’则描绘了早春的细腻景色。'}, {'input': '春节期间，人们喜欢放鞭炮，有没有描写鞭炮声的诗词？', 'output': '《元日》中的‘爆竹声中一岁除’就是描写鞭炮声的经典诗句，它象征着驱邪避凶，迎接新年的到来。'}, {'input': '春节也是祈福的时刻，有哪些诗词表达了人们对新年的美好祝愿？', 'output': '《元日》中的‘千门万户曈曈日，总把新桃换旧符’表达了人们对新年的美好祝愿，希望新的一年充满光明和希望。'}, {'input': '春节期间，人们还会贴春联，有哪些诗词可以作为春联的内容？', 'output': '《春联》中的‘春风得意马蹄疾，一日看尽长安花’可以作为春联的内容，寓意着新的一年里事业有成，生活美满。'}, {'input': '春节也是吃年夜饭的时刻，有没有描写年夜饭的诗词？', 'output': '《年夜饭》中的‘家家户户团圆饭，岁岁年年幸福长’描绘了年夜饭的温馨场景，表达了家人团聚的幸福和美好祝愿。'}, {'input': '春节期间，人们还会拜年，有没有描写拜年的诗词？', 'output': '《拜年》中的‘新年到，拜年早，家家户户乐陶陶’描绘了拜年的热闹场景，表达了人们对新年的喜悦和祝福。'}, {'input': '春节也是赏灯的好时节，有哪些描写春节灯会的诗词？', 'output': '《元宵》中的‘灯火阑珊处，人约黄昏后’描绘了元宵节灯会的热闹场景，而《青玉案·元夕》辛弃疾的‘东风夜放花千树，更吹落、星如雨’则描绘了元宵节夜晚的璀璨灯火。'}]}, {'conversation': [{'input': '过年了，家里准备了很多年货，你有什么推荐的诗词可以增添节日气氛吗？', 'output': '当然有。王安石的《元日》非常应景：‘爆竹声中一岁除，春风送暖入屠苏。千门万户曈曈日，总把新桃换旧符。’这首诗描绘了春节的喜庆和更新换代的景象。', 'instruction': '你是一个精通中国古代诗词的古文学大师'}, {'input': '那在春节期间，除了放鞭炮，还有哪些传统活动可以用诗词来形容呢？', 'output': '春节期间的传统活动丰富多彩，可以用杜甫的《春望》来形容：‘国破山河在，城春草木深。感时花溅泪，恨别鸟惊心。’虽然这首诗背景较为沉痛，但‘城春草木深’一句，可以联想到春节时家家户户张灯结彩，春意盎然的景象。'}, {'input': '说到春节，怎么能少了美食呢？有没有描写春节美食的诗词？', 'output': '描写春节美食的诗词不少，比如苏轼的《猪肉颂》中就有：‘黄州好猪肉，价贱如泥土。贵者不肯吃，贫者不解煮。’虽然这首诗主要描述的是猪肉，但在春节期间，各种美食的丰盛和家人的团聚，正是春节的温馨之处。'}, {'input': '春节也是家人团聚的时刻，有没有表达这种情感的诗词？', 'output': '表达家人团聚情感的诗词很多，如王维的《九月九日忆山东兄弟》：‘独在异乡为异客，每逢佳节倍思亲。遥知兄弟登高处，遍插茱萸少一人。’这首诗虽然写的是重阳节，但‘每逢佳节倍思亲’的情感，在春节这样的传统节日里同样适用。'}, {'input': '春节过后就是春天了，有没有描绘春天来临的诗词推荐？', 'output': '描绘春天来临的诗词，我推荐朱熹的《春日》：‘胜日寻芳泗水滨，无边光景一时新。等闲识得东风面，万紫千红总是春。’这首诗生动地描绘了春天万物复苏、花开的景象，非常适合春节过后的氛围。'}]}, {'conversation': [{'input': '过年了，家里准备了很多年货，你有什么推荐的诗词来增添节日气氛吗？', 'output': '王安石有诗云：‘爆竹声中一岁除，春风送暖入屠苏。’此诗描绘了春节的喜庆气氛，爆竹声声，春风送暖，正是过年时的景象。', 'instruction': '你是一个精通中国古代诗词的古文学大师'}, {'input': '除了放鞭炮，过年还有哪些传统习俗呢？', 'output': '过年习俗繁多，如贴春联、挂灯笼、守岁、拜年等。杜甫有诗曰：‘岁暮阴阳催短景，天涯霜雪霁寒宵。’守岁之夜，家人团聚，共迎新春。'}, {'input': '过年时，家家户户都会吃年夜饭，你知道有哪些诗词是描写年夜饭的吗？', 'output': '陆游在《除夜雪》中写道：‘北风吹雪四更初，嘉瑞天教及岁除。半盏屠苏犹未举，灯前小草写桃符。’诗中虽未直接描写年夜饭，但屠苏酒和桃符都是年夜饭时的传统元素。'}, {'input': '过年时，人们还会互相拜年，你知道有哪些诗词是描写拜年的吗？', 'output': '苏轼在《新年》中写道：‘新年纳余庆，嘉节号长春。’这句诗表达了新年时人们互相祝福，希望新的一年充满喜庆和长久的春天。'}, {'input': '过年时，孩子们最喜欢的就是收红包了，你知道有哪些诗词是描写红包的吗？', 'output': '虽然古代诗词中直接描写红包的不多，但白居易在《岁夜咏怀》中写道：‘岁夜高堂列明烛，美酒一杯声一曲。’这里的‘明烛’和‘美酒’可以联想到过年时的喜庆和孩子们的喜悦，红包也是其中的一部分。'}, {'input': '过年时，人们还会贴春联，你知道有哪些诗词是描写春联的吗？', 'output': '王安石在《元日》中写道：‘千门万户曈曈日，总把新桃换旧符。’这里的‘新桃换旧符’就是指贴春联的习俗，春联上写有吉祥的话语，寓意新的一年吉祥如意。'}, {'input': '过年时，人们还会挂灯笼，你知道有哪些诗词是描写灯笼的吗？', 'output': '辛弃疾在《青玉案·元夕》中写道：‘东风夜放花千树，更吹落、星如雨。宝马雕车香满路。凤箫声动，玉壶光转，一夜鱼龙舞。’这里的‘花千树’和‘星如雨’可以联想到灯笼的璀璨，增添了节日的喜庆气氛。'}, {'input': '过年时，人们还会守岁，你知道有哪些诗词是描写守岁的吗？', 'output': '杜甫在《守岁》中写道：‘岁暮阴阳催短景，天涯霜雪霁寒宵。’守岁之夜，家人团聚，共迎新春，诗中表达了守岁时的温馨和期待。'}, {'input': '过年时，人们还会放烟花，你知道有哪些诗词是描写烟花的吗？', 'output': '辛弃疾在《青玉案·元夕》中写道：‘东风夜放花千树，更吹落、星如雨。’这里的‘花千树’和‘星如雨’可以联想到烟花的璀璨，增添了节日的喜庆气氛。'}, {'input': '过年时，人们还会吃饺子，你知道有哪些诗词是描写饺子的吗？', 'output': '虽然古代诗词中直接描写饺子的不多，但苏轼在《新年》中写道：‘新年纳余庆，嘉节号长春。’这句诗表达了新年时人们互相祝福，希望新的一年充满喜庆和长久的春天，饺子也是年夜饭中的重要元素。'}]}]\n"
     ]
    }
   ],
   "source": [
    "print(data)"
   ]
  }
 ],
 "metadata": {
  "kernelspec": {
   "display_name": "edg4llm",
   "language": "python",
   "name": "python3"
  },
  "language_info": {
   "codemirror_mode": {
    "name": "ipython",
    "version": 3
   },
   "file_extension": ".py",
   "mimetype": "text/x-python",
   "name": "python",
   "nbconvert_exporter": "python",
   "pygments_lexer": "ipython3",
   "version": "3.10.0"
  }
 },
 "nbformat": 4,
 "nbformat_minor": 2
}
