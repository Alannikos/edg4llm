{
 "cells": [
  {
   "cell_type": "code",
   "execution_count": 1,
   "metadata": {},
   "outputs": [],
   "source": [
    "import edg4llm"
   ]
  },
  {
   "cell_type": "code",
   "execution_count": 2,
   "metadata": {},
   "outputs": [
    {
     "name": "stdout",
     "output_type": "stream",
     "text": [
      "0.1.0\n"
     ]
    }
   ],
   "source": [
    "print(edg4llm.__version__)"
   ]
  },
  {
   "cell_type": "code",
   "execution_count": 3,
   "metadata": {},
   "outputs": [
    {
     "name": "stderr",
     "output_type": "stream",
     "text": [
      "\u001b[92m[2025-01-10 21:17:28,112]-[interface:INFO]:DataPipeline initialized successfully with the provided configuration.\u001b[0m\n",
      "\u001b[92m[2025-01-10 21:17:28,115]-[DataPipeline:INFO]:Generated data for task_type: 'dialogue'\u001b[0m\n",
      "\u001b[92m[2025-01-10 21:17:28,116]-[preprocess:INFO]:User prompt matches the dialogue template. Proceeding with data generation.\u001b[0m\n",
      "\u001b[92m[2025-01-10 21:17:28,116]-[DialogueGenerator:INFO]:Starting the data generation process.\u001b[0m\n",
      "\u001b[92m[2025-01-10 21:17:49,850]-[DialogueGenerator:INFO]:Data generation progress: 100.00% (1/1 samples completed)\u001b[0m\n",
      "\u001b[92m[2025-01-10 21:17:49,851]-[interface:INFO]:Data generation completed successfully for task_type: dialogue\u001b[0m\n"
     ]
    }
   ],
   "source": [
    "from edg4llm import EDG4LLM\n",
    "\n",
    "api_key = \"xxx\"\n",
    "base_url = \"https://api.deepseek.com/chat/completions\"\n",
    "\n",
    "edg = EDG4LLM(model_provider='deepseek', model_name=\"deepseek-chat\", base_url=base_url, api_key=api_key)\n",
    "# 设置测试数据\n",
    "system_prompt = \"\"\"你是一个精通中国古代诗词的古文学大师\"\"\"\n",
    "\n",
    "user_prompt = '''\n",
    "    目标: 1. 请生成过年为场景的连续多轮对话记录\n",
    "            2. 提出的问题要多样化。\n",
    "            3. 要符合人类的说话习惯。\n",
    "            4. 严格遵循规则: 请以如下格式返回生成的数据, 只返回JSON格式，json模板:  \n",
    "                [\n",
    "                    {{\n",
    "                        \"input\":\"AAA\",\"output\":\"BBB\" \n",
    "                    }}\n",
    "                ]\n",
    "                其中input字段表示一个人的话语, output字段表示专家的话语\n",
    "'''\n",
    "num_samples = 1  # 只生成一个对话样本\n",
    "\n",
    "# 调用 generate 方法生成对话\n",
    "data = edg.generate(\n",
    "    task_type=\"dialogue\",\n",
    "    system_prompt=system_prompt,\n",
    "    user_prompt=user_prompt,\n",
    "    num_samples=num_samples\n",
    ")"
   ]
  },
  {
   "cell_type": "code",
   "execution_count": 4,
   "metadata": {},
   "outputs": [
    {
     "name": "stdout",
     "output_type": "stream",
     "text": [
      "[{'conversation': [{'input': '过年了，家里准备怎么布置呢？', 'output': '过年时节，家中自然要张灯结彩，挂上红灯笼，贴上春联，以增添喜庆气氛。春联上常写有吉祥话语，如‘岁岁平安’、‘年年有余’，寓意着对新一年的美好祝愿。', 'instruction': '你是一个精通中国古代诗词的古文学大师'}, {'input': '那春联的内容有什么讲究吗？', 'output': '春联的内容讲究对仗工整，意义吉祥。上联与下联字数相等，结构对称，平仄相对，意义相关。例如，‘天增岁月人增寿，春满乾坤福满门’，既表达了时间的流转，又寄托了人们对幸福生活的向往。'}, {'input': '过年时，除了贴春联，还有哪些传统习俗呢？', 'output': '过年习俗丰富多彩，除了贴春联，还有放鞭炮、守岁、拜年、吃年夜饭等。放鞭炮是为了驱邪避凶，守岁则是全家团聚，共同迎接新年的到来。拜年是向长辈和亲朋好友表达新年祝福，而年夜饭则是家人团聚的重要时刻，象征着团圆和美满。'}, {'input': '年夜饭通常都吃些什么呢？', 'output': '年夜饭的菜肴丰富多样，各地风俗不同，菜品也有所差异。但通常都会有鱼，寓意‘年年有余’；还有饺子，象征着财富和团圆。此外，还有各种肉类、蔬菜和甜点，每道菜都承载着对新年的美好祝愿。'}, {'input': '过年期间，人们还会做些什么特别的活动吗？', 'output': '过年期间，人们会进行许多特别的活动，如舞龙舞狮、逛庙会、赏花灯等。舞龙舞狮是为了祈求风调雨顺、五谷丰登；逛庙会则是体验传统文化，购买年货；赏花灯则是欣赏精美的灯笼艺术，感受节日的欢乐气氛。'}, {'input': '过年时，孩子们最期待的是什么？', 'output': '孩子们最期待的莫过于收到压岁钱了。压岁钱是长辈给晚辈的祝福，寓意着驱邪避灾，保佑孩子平安健康。此外，孩子们还喜欢放鞭炮、看烟花，以及参与各种游戏和活动，享受节日的快乐。'}, {'input': '过年时，人们如何表达对亲朋好友的祝福？', 'output': '人们通过拜年、送贺卡、发短信或微信等方式，向亲朋好友表达新年的祝福。常见的祝福语有‘新年快乐’、‘万事如意’、‘身体健康’等，都是对对方的美好祝愿。'}, {'input': '过年时，有哪些诗词可以表达节日的喜庆和祝福？', 'output': '有许多诗词可以表达过年的喜庆和祝福，如王安石的《元日》：‘爆竹声中一岁除，春风送暖入屠苏。千门万户曈曈日，总把新桃换旧符。’这首诗描绘了春节的热闹景象，表达了人们对新年的美好期待。'}, {'input': '过年时，人们如何保持传统与现代的结合？', 'output': '在现代社会，人们既保留了传统的过年习俗，如贴春联、放鞭炮、吃年夜饭等，也融入了现代元素，如通过社交媒体发送祝福、观看春节联欢晚会等。这种结合既传承了文化，又适应了现代生活的节奏。'}, {'input': '过年时，有哪些地方特色的庆祝活动？', 'output': '各地过年的庆祝活动各具特色。例如，北方的庙会、南方的花市、西南的舞龙舞狮、东北的冰灯节等。这些活动不仅丰富了节日的内容，也展示了各地的文化特色和风土人情。'}]}]\n"
     ]
    }
   ],
   "source": [
    "print(data)"
   ]
  },
  {
   "cell_type": "code",
   "execution_count": 5,
   "metadata": {},
   "outputs": [
    {
     "name": "stderr",
     "output_type": "stream",
     "text": [
      "\u001b[92m[2025-01-10 21:17:49,890]-[interface:INFO]:DataPipeline initialized successfully with the provided configuration.\u001b[0m\n",
      "\u001b[92m[2025-01-10 21:17:49,891]-[DataPipeline:INFO]:Generated data for task_type: 'question'\u001b[0m\n",
      "\u001b[92m[2025-01-10 21:17:49,892]-[preprocess:INFO]:User prompt matches the question template. Proceeding with data generation.\u001b[0m\n",
      "\u001b[92m[2025-01-10 21:17:49,892]-[QuestionGenerator:INFO]:Starting the data generation process.\u001b[0m\n",
      "\u001b[92m[2025-01-10 21:17:58,114]-[QuestionGenerator:INFO]:Generation progress: 100.00% (10 samples generated, 1/1 epoch completed)\u001b[0m\n",
      "\u001b[92m[2025-01-10 21:17:58,115]-[interface:INFO]:Data generation completed successfully for task_type: question\u001b[0m\n"
     ]
    }
   ],
   "source": [
    "from edg4llm import EDG4LLM\n",
    "\n",
    "api_key = \"sk-82454352d8ad499fb04126fc190f5caf\"\n",
    "base_url = \"https://api.deepseek.com/chat/completions\"\n",
    "\n",
    "edg = EDG4LLM(model_provider='deepseek', model_name=\"deepseek-chat\", base_url=base_url, api_key=api_key)\n",
    "# 设置测试数据\n",
    "system_prompt = \"\"\"你是一个精通中国古代诗词的古文学大师\"\"\"\n",
    "\n",
    "user_prompt = '''\n",
    "    目标: 1. 请生成过年为场景的问题\n",
    "            2. 提出的问题要多样化。\n",
    "            3. 要符合人类的说话习惯。\n",
    "            4. 严格遵循规则: 请以如下格式返回生成的数据, 只返回JSON格式，json模板:  \n",
    "                [\n",
    "                    {\n",
    "                        \"question\": \"AAA\"\n",
    "                    }\n",
    "                ]\n",
    "                其中question表示你生成的问题\n",
    "'''\n",
    "num_samples = 1  # 只生成一个对话样本\n",
    "\n",
    "# 调用 generate 方法生成对话\n",
    "data = edg.generate(\n",
    "    task_type=\"question\",\n",
    "    system_prompt=system_prompt,\n",
    "    user_prompt=user_prompt,\n",
    "    num_samples=num_samples\n",
    ")"
   ]
  },
  {
   "cell_type": "code",
   "execution_count": 6,
   "metadata": {},
   "outputs": [
    {
     "name": "stdout",
     "output_type": "stream",
     "text": [
      "[{'question': '在过年期间，家家户户都会贴春联，你能告诉我春联的起源和它在中国文化中的意义吗？'}, {'question': '过年时，人们常说‘年年有余’，这句话背后有什么深层的文化含义吗？'}, {'question': '在中国古代诗词中，有哪些著名的诗句是描写过年气氛的？'}, {'question': '过年时，人们会放鞭炮，这个习俗是怎么来的？它有什么特别的象征意义吗？'}, {'question': '在过年期间，家人团聚是非常重要的，你能分享一些古代诗词中关于家庭团聚的描写吗？'}, {'question': '过年时，人们会吃饺子，这个习俗有什么历史背景和文化意义？'}, {'question': '在中国古代，过年时皇帝会举行什么特别的仪式或活动？'}, {'question': '过年时，人们会给孩子压岁钱，这个传统是怎么来的？它有什么特别的寓意吗？'}, {'question': '在古代诗词中，有哪些诗句是描写过年时的喜庆和热闹气氛的？'}, {'question': '过年时，人们会挂红灯笼，这个习俗有什么特别的象征意义吗？'}]\n"
     ]
    }
   ],
   "source": [
    "print(data)"
   ]
  },
  {
   "cell_type": "code",
   "execution_count": 7,
   "metadata": {},
   "outputs": [
    {
     "name": "stderr",
     "output_type": "stream",
     "text": [
      "\u001b[92m[2025-01-10 21:17:58,141]-[interface:INFO]:DataPipeline initialized successfully with the provided configuration.\u001b[0m\n",
      "\u001b[92m[2025-01-10 21:17:58,142]-[DataPipeline:INFO]:Generated data for task_type: 'answer'\u001b[0m\n",
      "\u001b[92m[2025-01-10 21:17:58,143]-[preprocess:INFO]:User prompt matches the answer template. Proceeding with data generation.\u001b[0m\n",
      "\u001b[92m[2025-01-10 21:17:58,145]-[AnswerGenerator:INFO]:Starting the data generation process.\u001b[0m\n",
      "\u001b[92m[2025-01-10 21:18:01,111]-[AnswerGenerator:INFO]:Data generation progress: 100.00% (1/1 samples completed)\u001b[0m\n",
      "\u001b[92m[2025-01-10 21:18:01,112]-[interface:INFO]:Data generation completed successfully for task_type: answer\u001b[0m\n"
     ]
    }
   ],
   "source": [
    "from edg4llm import EDG4LLM\n",
    "\n",
    "api_key = \"sk-82454352d8ad499fb04126fc190f5caf\"\n",
    "base_url = \"https://api.deepseek.com/chat/completions\"\n",
    "\n",
    "edg = EDG4LLM(model_provider='deepseek', model_name=\"deepseek-chat\", base_url=base_url, api_key=api_key)\n",
    "# 设置测试数据\n",
    "system_prompt = \"\"\"你是一个精通中国古代诗词的古文学大师\"\"\"\n",
    "\n",
    "user_prompt = '''\n",
    "    目标: 1. 请生成EDG4LLM为问题的回答\n",
    "            2. 要符合人类的说话习惯。\n",
    "            3. 严格遵循规则: 请以如下格式返回生成的数据, 只返回JSON格式，json模板:  \n",
    "                [\n",
    "                    {\n",
    "                        \"answer\": \"AAA\"\n",
    "                    }\n",
    "                ]\n",
    "                其中answer表示你的回答\n",
    "'''\n",
    "num_samples = 1  # 只生成一个对话样本\n",
    "\n",
    "# 调用 generate 方法生成对话\n",
    "data = edg.generate(\n",
    "    task_type=\"answer\",\n",
    "    system_prompt=system_prompt,\n",
    "    user_prompt=user_prompt,\n",
    "    num_samples=num_samples,\n",
    "    question_path=\"./question.json\"\n",
    ")"
   ]
  }
 ],
 "metadata": {
  "kernelspec": {
   "display_name": "edg4llm",
   "language": "python",
   "name": "python3"
  },
  "language_info": {
   "codemirror_mode": {
    "name": "ipython",
    "version": 3
   },
   "file_extension": ".py",
   "mimetype": "text/x-python",
   "name": "python",
   "nbconvert_exporter": "python",
   "pygments_lexer": "ipython3",
   "version": "3.10.0"
  }
 },
 "nbformat": 4,
 "nbformat_minor": 2
}
