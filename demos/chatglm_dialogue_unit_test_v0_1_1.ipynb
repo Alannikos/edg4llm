{
 "cells": [
  {
   "cell_type": "code",
   "execution_count": 1,
   "metadata": {},
   "outputs": [],
   "source": [
    "import sys\n",
    "sys.path.append(\"/home/alannikos/Project_Repository/edg4llm_workplace/edg4llm_local\")\n",
    "\n",
    "import edg4llm"
   ]
  },
  {
   "cell_type": "code",
   "execution_count": 2,
   "metadata": {},
   "outputs": [
    {
     "name": "stdout",
     "output_type": "stream",
     "text": [
      "0.1.0\n"
     ]
    }
   ],
   "source": [
    "print(edg4llm.__version__)"
   ]
  },
  {
   "cell_type": "code",
   "execution_count": 3,
   "metadata": {},
   "outputs": [
    {
     "name": "stderr",
     "output_type": "stream",
     "text": [
      "\u001b[92m[2025-01-10 10:51:57,569]-[interface:INFO]:DataPipeline initialized successfully with the provided configuration.\u001b[0m\n",
      "\u001b[92m[2025-01-10 10:51:57,571]-[DataPipeline:INFO]:Generated data for task_type: 'dialogue'\u001b[0m\n",
      "\u001b[92m[2025-01-10 10:52:16,297]-[DialogueGenerator:INFO]:Data generation progress: 33.33% (1/3 samples completed)\u001b[0m\n",
      "\u001b[92m[2025-01-10 10:52:32,247]-[DialogueGenerator:INFO]:Data generation progress: 66.67% (2/3 samples completed)\u001b[0m\n",
      "\u001b[92m[2025-01-10 10:52:51,921]-[DialogueGenerator:INFO]:Data generation progress: 100.00% (3/3 samples completed)\u001b[0m\n",
      "\u001b[92m[2025-01-10 10:52:51,922]-[interface:INFO]:Data generation completed successfully for task_type: dialogue\u001b[0m\n"
     ]
    }
   ],
   "source": [
    "from edg4llm.core.interface import EDG4LLM\n",
    "\n",
    "api_key = \"xxx\"\n",
    "base_url = \"https://open.bigmodel.cn/api/paas/v4/chat/completions\"\n",
    "\n",
    "edg = EDG4LLM(model_provider='chatglm', model_name=\"glm-4-flash\", base_url=base_url, api_key=api_key)\n",
    "# 设置测试数据\n",
    "system_prompt = \"\"\"你是一个精通中国古代诗词的古文学大师\"\"\"\n",
    "\n",
    "user_prompt = '''\n",
    "    目标: 1. 请生成过年为场景的连续多轮对话记录\n",
    "            2. 提出的问题要多样化。\n",
    "            3. 要符合人类的说话习惯。\n",
    "            4. 严格遵循规则: 请以如下格式返回生成的数据, 只返回JSON格式，json模板:  \n",
    "                [\n",
    "                    {{\n",
    "                        \"input\":\"AAA\",\"output\":\"BBBB\" \n",
    "                    }}\n",
    "                ]\n",
    "                其中input字段表示一个人的话语, output字段表示专家的话语'''\n",
    "num_samples = 3  # 只生成一个对话样本\n",
    "\n",
    "# 调用 generate 方法生成对话\n",
    "data = edg.generate(\n",
    "    task_type=\"dialogue\",\n",
    "    system_prompt=system_prompt,\n",
    "    user_prompt=user_prompt,\n",
    "    num_samples=num_samples\n",
    ")"
   ]
  },
  {
   "cell_type": "code",
   "execution_count": 4,
   "metadata": {},
   "outputs": [
    {
     "name": "stdout",
     "output_type": "stream",
     "text": [
      "[{'conversation': [{'input': '今年过年有什么特别的习俗吗？', 'output': '哎呀，过年可是中国传统节日中最重要的了。一般会有贴春联、放鞭炮、拜年、吃团圆饭等习俗。其中贴春联是寓意着新的一年红红火火，放鞭炮则是为了驱除邪气，拜年则是亲朋好友间互道祝福，团圆饭则是家人团聚的时刻，非常温馨。', 'instruction': '你是一个精通中国古代诗词的古文学大师'}, {'input': '放鞭炮不是现在很多人都在反对吗？', 'output': '确实如此，随着环保意识的增强，现在很多地方都在限制放鞭炮。但这也是一种传统文化的传承，所以很多地方会在特定的时段和地点组织放烟花活动，既能延续传统，又能减少对环境的影响。'}, {'input': '那团圆饭上通常有哪些菜式呢？', 'output': '团圆饭上的菜式可多了，一般都会准备鱼、肉、鸡等丰盛的菜肴。鱼象征着年年有余，肉和鸡则寓意着富贵吉祥。此外，还有汤圆、饺子等甜食，寓意着团团圆圆。每个地方的风俗不同，菜式也会有所差异。'}, {'input': '过年期间，孩子们最期待的是什么？', 'output': '孩子们最期待的当然是压岁钱了！长辈会给晚辈一些红包，寓意着新的一年财源滚滚。当然，除了压岁钱，孩子们还喜欢穿新衣、放鞭炮、玩花灯等，充满了节日的气氛。'}, {'input': '过年期间，有没有哪些民间传说或故事呢？', 'output': '当然有了。比如关于年兽的传说，说年兽是一种凶猛的怪兽，每年过年都会出来作乱。人们为了驱赶年兽，会贴春联、放鞭炮、挂灯笼等。还有关于玉皇大帝的传说，说他在新年的第一天会巡视人间，所以人们要拜年求福。这些传说和故事，都蕴含着深厚的文化内涵。'}, {'input': '过年期间，有没有什么特别的禁忌呢？', 'output': '有的。比如，过年期间不能说不吉利的话，不能打碎东西，不能倒垃圾等。这些禁忌都是为了避邪求福，希望新的一年平安顺利。当然，现在这些禁忌已经逐渐淡化了，但仍然能在一些地方和人群中看到。'}]}, {'conversation': [{'input': '今年过年准备去哪里玩呀？', 'output': '哈哈，今年打算回老家过年，感受一下家乡的年味。你呢？', 'instruction': '你是一个精通中国古代诗词的古文学大师'}, {'input': '我也想去感受一下家乡的年味，不过不知道该去哪里。', 'output': '那你可以去附近的古镇或者乡村，感受一下传统的春节习俗，比如放鞭炮、贴春联、舞龙舞狮等。'}, {'input': '放鞭炮和舞龙舞狮确实很有趣，但感觉现在很多人都不太重视这些传统习俗了。', 'output': '确实，随着时代的发展，很多传统习俗都逐渐淡化了。不过，我们还是可以通过参与这些活动，传承和弘扬我们的传统文化。'}, {'input': '那你觉得过年最值得期待的是什么？', 'output': '对我来说，最期待的应该是团圆的时刻，和家人一起吃年夜饭，分享一年的喜悦和收获。'}, {'input': '听起来很温馨。那你们家年夜饭有什么特别的传统菜吗？', 'output': '我们家年夜饭通常会准备鱼、饺子、年糕等象征吉祥的菜肴。鱼寓意年年有余，饺子代表团圆，年糕则寓意步步高升。'}, {'input': '这些菜肴听起来都很美味。那你们还会做什么特别的准备吗？', 'output': '除了准备年夜饭，我们还会打扫卫生，贴春联，挂灯笼，布置家里，营造喜庆的节日氛围。'}, {'input': '听起来你们家的过年准备很充分。那你们会怎样度过除夕夜呢？', 'output': '除夕夜我们会一起看春晚，守岁，迎接新年的到来。还有一些地方会举行庙会，我们可以去逛逛，买一些年货，体验传统节日气氛。'}, {'input': '听起来很有趣。那你觉得过年的意义是什么？', 'output': '过年的意义在于团圆、感恩和祈福。它不仅是一个节日，更是一种文化传承，连接着我们的过去和未来。'}, {'input': '说得真好。那我们也要珍惜这个传统，传承下去。', 'output': '没错，让我们共同努力，让春节这个传统节日更加丰富多彩，代代相传。'}]}, {'conversation': [{'input': '新年快乐！今年家里准备怎么庆祝呢？', 'output': '哎呀，新年当然要热闹非凡。我们打算放鞭炮，贴春联，还要准备丰盛的年夜饭，全家人一起团圆。', 'instruction': '你是一个精通中国古代诗词的古文学大师'}, {'input': '放鞭炮很危险，现在很多人都不放了，你们家呢？', 'output': '确实，安全第一。我们虽然还是放，但会注意安全，选择合适的时间和地点，并且控制鞭炮的数量。'}, {'input': '那你们年夜饭都准备些什么菜式？', 'output': '年夜饭的菜式有很多讲究，比如鱼代表年年有余，饺子象征财富滚滚。我们还会做红烧肉、鸡鸭鱼肉等，都是寓意吉祥的菜肴。'}, {'input': '听起来好丰盛啊，你们家有没有什么特别的习俗？', 'output': '有的，我们这里有个习俗是长辈会给晚辈压岁钱，寓意着新的一年里长辈的祝福和好运。'}, {'input': '压岁钱很有意义，那你们家还有其他特别的庆祝方式吗？', 'output': '还有，我们会一起看春晚，这是中国过年的传统。而且，长辈们还会给小孩子讲一些寓意吉祥的故事，比如《年兽的故事》。'}, {'input': '春晚每年都有很多精彩的节目，你们最喜欢哪个节目？', 'output': '我最喜欢的是小品和魔术表演，总是能让人笑得合不拢嘴。不过，每年的春晚都有新节目，总有惊喜等着我们。'}, {'input': '新年期间，你们会去拜访亲戚朋友吗？', 'output': '当然，这是必不可少的。我们会去拜年，给亲戚们带去祝福，同时也会收到他们的祝福。'}, {'input': '拜访亲戚朋友的时候，有什么特别的礼仪吗？', 'output': '有的，比如进门要鞠躬，给长辈拜年要双手递上红包，还要说一些吉祥的话。这些都是表示尊重和祝福的传统礼仪。'}, {'input': '听起来新年期间有很多讲究，你们觉得这样庆祝有意义吗？', 'output': '非常有意义。这些习俗和传统不仅让我们感受到家的温暖，也让我们更加珍惜和家人团聚的时光。'}]}]\n"
     ]
    }
   ],
   "source": [
    "print(data)"
   ]
  }
 ],
 "metadata": {
  "kernelspec": {
   "display_name": "edg4llm",
   "language": "python",
   "name": "python3"
  },
  "language_info": {
   "codemirror_mode": {
    "name": "ipython",
    "version": 3
   },
   "file_extension": ".py",
   "mimetype": "text/x-python",
   "name": "python",
   "nbconvert_exporter": "python",
   "pygments_lexer": "ipython3",
   "version": "3.10.0"
  }
 },
 "nbformat": 4,
 "nbformat_minor": 2
}
